{
 "cells": [
  {
   "cell_type": "markdown",
   "metadata": {},
   "source": [
    "## 5. Fine-Tune Your Model\n",
    "\n",
    "This is a model that has many input hyperparameters that can be tweaked for improving performance. For example, we could have a forest with 100 or 1000 trees, or we could use 10 or 50 features during random selection. What are the best values for these hyperparameters to pass as input to the model for training?"
   ]
  },
  {
   "cell_type": "markdown",
   "metadata": {},
   "source": [
    "We can use Scikit-learn’s `GridSearchCV` to tell  which hyperparameters we would like to explore and which values to try out, and it will evaluate all the possible combinations of hyperparameter values, using cross-validation."
   ]
  },
  {
   "cell_type": "code",
   "execution_count": 50,
   "metadata": {},
   "outputs": [
    {
     "data": {
      "text/plain": [
       "GridSearchCV(cv=5, error_score='raise-deprecating',\n",
       "       estimator=RandomForestRegressor(bootstrap=True, criterion='mse', max_depth=None,\n",
       "           max_features='auto', max_leaf_nodes=None,\n",
       "           min_impurity_decrease=0.0, min_impurity_split=None,\n",
       "           min_samples_leaf=1, min_samples_split=2,\n",
       "           min_weight_fraction_leaf=0.0, n_estimators='warn', n_jobs=None,\n",
       "           oob_score=False, random_state=None, verbose=0, warm_start=False),\n",
       "       fit_params=None, iid='warn', n_jobs=None,\n",
       "       param_grid=[{'n_estimators': [10, 50, 100, 150], 'max_features': [10, 20, 30, 40, 50, 100, 150]}, {'bootstrap': [False], 'n_estimators': [10, 50, 100, 150], 'max_features': [10, 20, 30, 40, 50, 100, 150]}],\n",
       "       pre_dispatch='2*n_jobs', refit=True, return_train_score=True,\n",
       "       scoring='neg_mean_squared_error', verbose=0)"
      ]
     },
     "execution_count": 50,
     "metadata": {},
     "output_type": "execute_result"
    }
   ],
   "source": [
    "from sklearn.model_selection import GridSearchCV\n",
    "\n",
    "param_grid = [\n",
    "    {'n_estimators': [10, 50, 100, 150], 'max_features': [10, 20, 30, 40, 50, 100, 150]},\n",
    "    {'bootstrap': [False], 'n_estimators': [10, 50, 100, 150], 'max_features': [10, 20, 30, 40, 50, 100, 150]},\n",
    "  ]\n",
    "\n",
    "forest_reg = RandomForestRegressor()\n",
    "\n",
    "grid_search = GridSearchCV(forest_reg, param_grid, cv=5,\n",
    "                           scoring='neg_mean_squared_error',\n",
    "                           return_train_score=True)\n",
    "\n",
    "grid_search.fit(X_train, y_train)"
   ]
  },
  {
   "cell_type": "markdown",
   "metadata": {},
   "source": [
    "We can use best_params_ to visualize the best values for the passed hyperparameters, and best_estimator_ to get the fine-tuned model:"
   ]
  },
  {
   "cell_type": "code",
   "execution_count": 51,
   "metadata": {},
   "outputs": [
    {
     "data": {
      "text/plain": [
       "{'bootstrap': False, 'max_features': 50, 'n_estimators': 150}"
      ]
     },
     "execution_count": 51,
     "metadata": {},
     "output_type": "execute_result"
    }
   ],
   "source": [
    "grid_search.best_params_"
   ]
  },
  {
   "cell_type": "code",
   "execution_count": 52,
   "metadata": {},
   "outputs": [
    {
     "data": {
      "text/plain": [
       "RandomForestRegressor(bootstrap=False, criterion='mse', max_depth=None,\n",
       "           max_features=50, max_leaf_nodes=None, min_impurity_decrease=0.0,\n",
       "           min_impurity_split=None, min_samples_leaf=1,\n",
       "           min_samples_split=2, min_weight_fraction_leaf=0.0,\n",
       "           n_estimators=150, n_jobs=None, oob_score=False,\n",
       "           random_state=None, verbose=0, warm_start=False)"
      ]
     },
     "execution_count": 52,
     "metadata": {},
     "output_type": "execute_result"
    }
   ],
   "source": [
    "grid_search.best_estimator_"
   ]
  },
  {
   "cell_type": "code",
   "execution_count": 53,
   "metadata": {},
   "outputs": [
    {
     "name": "stdout",
     "output_type": "stream",
     "text": [
      "0.16045887516202725 {'max_features': 10, 'n_estimators': 10}\n",
      "0.1463990948564421 {'max_features': 10, 'n_estimators': 50}\n",
      "0.1412026947487663 {'max_features': 10, 'n_estimators': 100}\n",
      "0.14246253054769992 {'max_features': 10, 'n_estimators': 150}\n",
      "0.14691746270767267 {'max_features': 20, 'n_estimators': 10}\n",
      "0.13597115151245137 {'max_features': 20, 'n_estimators': 50}\n",
      "0.1339317384657923 {'max_features': 20, 'n_estimators': 100}\n",
      "0.13586344839124506 {'max_features': 20, 'n_estimators': 150}\n",
      "0.14151866730008977 {'max_features': 30, 'n_estimators': 10}\n",
      "0.1340031945390629 {'max_features': 30, 'n_estimators': 50}\n",
      "0.13223525140249814 {'max_features': 30, 'n_estimators': 100}\n",
      "0.13125997327589092 {'max_features': 30, 'n_estimators': 150}\n",
      "0.13940136029754568 {'max_features': 40, 'n_estimators': 10}\n",
      "0.1328361901145508 {'max_features': 40, 'n_estimators': 50}\n",
      "0.1300245720445149 {'max_features': 40, 'n_estimators': 100}\n",
      "0.1298365980534873 {'max_features': 40, 'n_estimators': 150}\n",
      "0.14116266819925172 {'max_features': 50, 'n_estimators': 10}\n",
      "0.1311126792930899 {'max_features': 50, 'n_estimators': 50}\n",
      "0.130191541114776 {'max_features': 50, 'n_estimators': 100}\n",
      "0.12901152024092807 {'max_features': 50, 'n_estimators': 150}\n",
      "0.13723302063015053 {'max_features': 100, 'n_estimators': 10}\n",
      "0.13063555891586132 {'max_features': 100, 'n_estimators': 50}\n",
      "0.12892800751442404 {'max_features': 100, 'n_estimators': 100}\n",
      "0.12817964532864004 {'max_features': 100, 'n_estimators': 150}\n",
      "0.14057954745740392 {'max_features': 150, 'n_estimators': 10}\n",
      "0.1297894460324174 {'max_features': 150, 'n_estimators': 50}\n",
      "0.13085086017177705 {'max_features': 150, 'n_estimators': 100}\n",
      "0.12899531175939277 {'max_features': 150, 'n_estimators': 150}\n",
      "0.15335017183000452 {'bootstrap': False, 'max_features': 10, 'n_estimators': 10}\n",
      "0.1399478818694478 {'bootstrap': False, 'max_features': 10, 'n_estimators': 50}\n",
      "0.13816438773401196 {'bootstrap': False, 'max_features': 10, 'n_estimators': 100}\n",
      "0.13747741825185367 {'bootstrap': False, 'max_features': 10, 'n_estimators': 150}\n",
      "0.1448566967473165 {'bootstrap': False, 'max_features': 20, 'n_estimators': 10}\n",
      "0.13156499062165852 {'bootstrap': False, 'max_features': 20, 'n_estimators': 50}\n",
      "0.13117438690332758 {'bootstrap': False, 'max_features': 20, 'n_estimators': 100}\n",
      "0.1321028585199401 {'bootstrap': False, 'max_features': 20, 'n_estimators': 150}\n",
      "0.1401251351271328 {'bootstrap': False, 'max_features': 30, 'n_estimators': 10}\n",
      "0.13024739938758348 {'bootstrap': False, 'max_features': 30, 'n_estimators': 50}\n",
      "0.12865747441905195 {'bootstrap': False, 'max_features': 30, 'n_estimators': 100}\n",
      "0.12915503197732683 {'bootstrap': False, 'max_features': 30, 'n_estimators': 150}\n",
      "0.13567111812601992 {'bootstrap': False, 'max_features': 40, 'n_estimators': 10}\n",
      "0.12972665295738853 {'bootstrap': False, 'max_features': 40, 'n_estimators': 50}\n",
      "0.129257615493264 {'bootstrap': False, 'max_features': 40, 'n_estimators': 100}\n",
      "0.1281449118450158 {'bootstrap': False, 'max_features': 40, 'n_estimators': 150}\n",
      "0.1391271827737203 {'bootstrap': False, 'max_features': 50, 'n_estimators': 10}\n",
      "0.1290091115177677 {'bootstrap': False, 'max_features': 50, 'n_estimators': 50}\n",
      "0.1280362288276888 {'bootstrap': False, 'max_features': 50, 'n_estimators': 100}\n",
      "0.1279044755547851 {'bootstrap': False, 'max_features': 50, 'n_estimators': 150}\n",
      "0.1367296895810786 {'bootstrap': False, 'max_features': 100, 'n_estimators': 10}\n",
      "0.1318501389952527 {'bootstrap': False, 'max_features': 100, 'n_estimators': 50}\n",
      "0.12984220631344834 {'bootstrap': False, 'max_features': 100, 'n_estimators': 100}\n",
      "0.12890707038554408 {'bootstrap': False, 'max_features': 100, 'n_estimators': 150}\n",
      "0.14249071923494183 {'bootstrap': False, 'max_features': 150, 'n_estimators': 10}\n",
      "0.1322919928507514 {'bootstrap': False, 'max_features': 150, 'n_estimators': 50}\n",
      "0.13237292800787429 {'bootstrap': False, 'max_features': 150, 'n_estimators': 100}\n",
      "0.13120870959543485 {'bootstrap': False, 'max_features': 150, 'n_estimators': 150}\n"
     ]
    }
   ],
   "source": [
    "cvres = grid_search.cv_results_\n",
    "for mean_score, params in zip(cvres[\"mean_test_score\"], cvres[\"params\"]):\n",
    "    print(np.sqrt(-mean_score), params)"
   ]
  },
  {
   "cell_type": "markdown",
   "metadata": {},
   "source": [
    "Now that we know the optimal values for the hyperparameters (‘bootstrap’: False, ‘max_features’: 50, ‘n_estimators’: 150), let’s plug them in and see if our Random Forest model has improved compared to the vanilla Random Forest model that we trained earlier when we trained multiple models at once:"
   ]
  },
  {
   "cell_type": "code",
   "execution_count": 54,
   "metadata": {},
   "outputs": [
    {
     "data": {
      "text/plain": [
       "28801.819287572634"
      ]
     },
     "execution_count": 54,
     "metadata": {},
     "output_type": "execute_result"
    }
   ],
   "source": [
    "rf_model_final = RandomForestRegressor(bootstrap=False,max_features=50, n_estimators=150, random_state=5)\n",
    "\n",
    "rf_model_final.fit(X_train, y_train)\n",
    "rf_final_val_predictions = rf_model_final.predict(X_test)\n",
    "rf_final_val_rmse = mean_squared_error(inv_y(rf_final_val_predictions), inv_y(y_test))\n",
    "np.sqrt(rf_final_val_rmse)"
   ]
  },
  {
   "cell_type": "code",
   "execution_count": 55,
   "metadata": {},
   "outputs": [
    {
     "data": {
      "text/plain": [
       "87.81704897477596"
      ]
     },
     "execution_count": 55,
     "metadata": {},
     "output_type": "execute_result"
    }
   ],
   "source": [
    "rf_model_final.score(X_test, y_test)*100"
   ]
  },
  {
   "cell_type": "code",
   "execution_count": 56,
   "metadata": {},
   "outputs": [],
   "source": [
    "feature_importances = grid_search.best_estimator_.feature_importances_"
   ]
  },
  {
   "cell_type": "markdown",
   "metadata": {},
   "source": [
    "Let’s display these importance scores next to their corresponding attribute names:"
   ]
  },
  {
   "cell_type": "code",
   "execution_count": 57,
   "metadata": {},
   "outputs": [
    {
     "data": {
      "text/plain": [
       "[(0.13587910160757175, 'OverallQual'),\n",
       " (0.11448897858060943, 'GrLivArea'),\n",
       " (0.09581655010849015, 'YearBuilt'),\n",
       " (0.07582896748463265, 'GarageCars'),\n",
       " (0.046056980286277464, 'TotalBsmtSF'),\n",
       " (0.04487549401201833, '1stFlrSF'),\n",
       " (0.041393174102971615, 'FullBath'),\n",
       " (0.023880560131905645, 'LotArea'),\n",
       " (0.021393985092654423, 'YearRemodAdd'),\n",
       " (0.01724007555749671, '2ndFlrSF'),\n",
       " (0.015760931004710026, 'BsmtFinSF1'),\n",
       " (0.015735215913831282, 'LotFrontage'),\n",
       " (0.015286111385595777, 'Fireplaces'),\n",
       " (0.01068633452178631, 'TotRmsAbvGrd'),\n",
       " (0.008698353502217744, 'OverallCond'),\n",
       " (0.0061489973736860975, 'BsmtUnfSF'),\n",
       " (0.005958047979369089, 'OpenPorchSF'),\n",
       " (0.005208876302112425, 'MasVnrArea'),\n",
       " (0.0036112351500639174, 'WoodDeckSF'),\n",
       " (0.0034948654242381166, 'BedroomAbvGr'),\n",
       " (0.0031363147175676787, 'HalfBath'),\n",
       " (0.002912991933145176, 'RM'),\n",
       " (0.002525673214705328, 'RL'),\n",
       " (0.0017716519205522537, 'BsmtFullBath'),\n",
       " (0.0015500110819655765, 'EnclosedPorch'),\n",
       " (0.0011829609950252812, 'C (all)'),\n",
       " (0.0009030944551474964, 'KitchenAbvGr'),\n",
       " (0.0007778701840491798, 'ScreenPorch'),\n",
       " (0.00021547514655561914, 'FV'),\n",
       " (0.00016559256143708651, 'LowQualFinSF'),\n",
       " (8.775540925659522e-05, 'RH'),\n",
       " (0.0, 'PoolArea')]"
      ]
     },
     "execution_count": 57,
     "metadata": {},
     "output_type": "execute_result"
    }
   ],
   "source": [
    "cat_encoder = full_pipeline.named_transformers_[\"cat\"]\n",
    "cat_one_hot_attribs = list(cat_encoder.categories_[0])\n",
    "attributes = num_attribs + cat_one_hot_attribs\n",
    "sorted(zip(feature_importances, attributes), reverse=True)"
   ]
  }
 ],
 "metadata": {
  "kernelspec": {
   "display_name": "Python 3",
   "language": "python",
   "name": "python3"
  },
  "language_info": {
   "codemirror_mode": {
    "name": "ipython",
    "version": 3
   },
   "file_extension": ".py",
   "mimetype": "text/x-python",
   "name": "python",
   "nbconvert_exporter": "python",
   "pygments_lexer": "ipython3",
   "version": "3.5.2"
  }
 },
 "nbformat": 4,
 "nbformat_minor": 2
}
