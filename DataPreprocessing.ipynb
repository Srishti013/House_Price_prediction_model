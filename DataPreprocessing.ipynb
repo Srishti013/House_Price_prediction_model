{
 "cells": [
  {
   "cell_type": "markdown",
   "metadata": {},
   "source": [
    "#### Importing Libraries"
   ]
  },
  {
   "cell_type": "code",
   "execution_count": 1,
   "metadata": {},
   "outputs": [],
   "source": [
    "import pandas as pd\n",
    "import matplotlib.pyplot as plt\n",
    "import seaborn as sns \n",
    "import numpy as np\n",
    "\n",
    "import warnings\n",
    "warnings.filterwarnings('ignore')\n",
    "%matplotlib inline"
   ]
  },
  {
   "cell_type": "markdown",
   "metadata": {},
   "source": [
    "## 2. Data Preprocessing - Prepare the Data for Machine Learning Algorithms\n",
    " \n",
    " Get a sorted count of the missing values for all the attributes."
   ]
  },
  {
   "cell_type": "code",
   "execution_count": 33,
   "metadata": {},
   "outputs": [
    {
     "data": {
      "text/plain": [
       "PoolQC           1453\n",
       "MiscFeature      1406\n",
       "Alley            1369\n",
       "Fence            1179\n",
       "FireplaceQu       690\n",
       "LotFrontage       259\n",
       "GarageType         81\n",
       "GarageCond         81\n",
       "GarageFinish       81\n",
       "GarageQual         81\n",
       "GarageYrBlt        81\n",
       "BsmtFinType2       38\n",
       "BsmtExposure       38\n",
       "BsmtQual           37\n",
       "BsmtCond           37\n",
       "BsmtFinType1       37\n",
       "MasVnrArea          8\n",
       "MasVnrType          8\n",
       "Electrical          1\n",
       "RoofMatl            0\n",
       "Exterior1st         0\n",
       "RoofStyle           0\n",
       "ExterQual           0\n",
       "Exterior2nd         0\n",
       "YearBuilt           0\n",
       "ExterCond           0\n",
       "Foundation          0\n",
       "YearRemodAdd        0\n",
       "SalePrice           0\n",
       "OverallCond         0\n",
       "                 ... \n",
       "GarageArea          0\n",
       "PavedDrive          0\n",
       "WoodDeckSF          0\n",
       "OpenPorchSF         0\n",
       "3SsnPorch           0\n",
       "BsmtUnfSF           0\n",
       "ScreenPorch         0\n",
       "PoolArea            0\n",
       "MiscVal             0\n",
       "MoSold              0\n",
       "YrSold              0\n",
       "SaleType            0\n",
       "Functional          0\n",
       "TotRmsAbvGrd        0\n",
       "KitchenQual         0\n",
       "KitchenAbvGr        0\n",
       "BedroomAbvGr        0\n",
       "HalfBath            0\n",
       "FullBath            0\n",
       "BsmtHalfBath        0\n",
       "BsmtFullBath        0\n",
       "GrLivArea           0\n",
       "LowQualFinSF        0\n",
       "2ndFlrSF            0\n",
       "1stFlrSF            0\n",
       "CentralAir          0\n",
       "SaleCondition       0\n",
       "Heating             0\n",
       "TotalBsmtSF         0\n",
       "MSSubClass          0\n",
       "Length: 80, dtype: int64"
      ]
     },
     "execution_count": 33,
     "metadata": {},
     "output_type": "execute_result"
    }
   ],
   "source": [
    "housing.isnull().sum().sort_values(ascending=False)"
   ]
  },
  {
   "cell_type": "markdown",
   "metadata": {},
   "source": [
    "From the results above we can assume that PoolQC to Bsmt attributes are missing for the houses that do not have these facilities (houses without pools, basements, garage etc.). Therefore, the missing values could be filled in with “None”. MasVnrType and MasVnrArea both have 8 missing values, likely houses without masonry veneer."
   ]
  },
  {
   "cell_type": "markdown",
   "metadata": {},
   "source": [
    "### Deal With Missing Values\n",
    "We are going to apply different approaches to fix our missing values, so that we can various approaches in action:\n",
    "\n",
    "* Replace values for categorical attributes with None.\n",
    "* Compute the median LotFrontage for all the houses in the same neighborhood, instead of the plain median for the entire column, and use that to impute on a neighborhood by neighborhood basis.\n",
    "* Replace missing values for most of the numerical columns with zero and one with the mode.\n",
    "* Drop one non-interesting column, Utilities."
   ]
  },
  {
   "cell_type": "code",
   "execution_count": 34,
   "metadata": {
    "collapsed": true
   },
   "outputs": [],
   "source": [
    "# Imputing Missing Values\n",
    "\n",
    "housing_processed = housing\n",
    "\n",
    "# Categorical columns:\n",
    "cat_cols_fill_none = ['PoolQC', 'MiscFeature', 'Alley', 'Fence', 'FireplaceQu',\n",
    "                     'GarageCond', 'GarageQual', 'GarageFinish', 'GarageType',\n",
    "                     'BsmtFinType2', 'BsmtExposure', 'BsmtFinType1', 'BsmtQual', 'BsmtCond',\n",
    "                     'MasVnrType']\n",
    "\n",
    "# Replace missing values for categorical columns with None\n",
    "for cat in cat_cols_fill_none:\n",
    "    housing_processed[cat] = housing_processed[cat].fillna(\"None\")\n",
    "    \n",
    "# Group by neighborhood and fill in missing value by the median LotFrontage of all the neighborhood\n",
    "housing_processed['LotFrontage'] = housing_processed.groupby(\"Neighborhood\")[\"LotFrontage\"].transform(\n",
    "    lambda x: x.fillna(x.median()))    \n",
    "\n",
    "# GarageYrBlt, GarageArea and GarageCars these are numerical columns, replace with zero\n",
    "for col in ['GarageYrBlt', 'GarageArea', 'GarageCars']:\n",
    "    housing_processed[col] = housing_processed[col].fillna(int(0))\n",
    "    \n",
    "#MasVnrArea : replace with zero\n",
    "housing_processed['MasVnrArea'] = housing_processed['MasVnrArea'].fillna(int(0))\n",
    "\n",
    "#Use the mode value \n",
    "housing_processed['Electrical'] = housing_processed['Electrical'].fillna(housing_processed['Electrical']).mode()[0]\n",
    "\n",
    "#There is no need of Utilities so let's just drop this column\n",
    "housing_processed = housing_processed.drop(['Utilities'], axis=1)"
   ]
  },
  {
   "cell_type": "code",
   "execution_count": 35,
   "metadata": {},
   "outputs": [
    {
     "data": {
      "text/plain": [
       "0"
      ]
     },
     "execution_count": 35,
     "metadata": {},
     "output_type": "execute_result"
    }
   ],
   "source": [
    "# Get the count again to verify that we do not have any more missing values\n",
    "housing_processed.isnull().apply(sum).max()"
   ]
  },
  {
   "cell_type": "markdown",
   "metadata": {},
   "source": [
    "### Deal With Outliers\n",
    "Invoking the `quantile()` method on the DataFrame and then filtering based on the knowledge of the quantiles for each attribute, like so:"
   ]
  },
  {
   "cell_type": "code",
   "execution_count": 36,
   "metadata": {},
   "outputs": [
    {
     "name": "stdout",
     "output_type": "stream",
     "text": [
      "<class 'pandas.core.frame.DataFrame'>\n",
      "Int64Index: 1422 entries, 0 to 1458\n",
      "Data columns (total 79 columns):\n",
      "MSSubClass       1422 non-null int64\n",
      "MSZoning         1422 non-null object\n",
      "LotFrontage      1422 non-null float64\n",
      "LotArea          1422 non-null int64\n",
      "Street           1422 non-null object\n",
      "Alley            1422 non-null object\n",
      "LotShape         1422 non-null object\n",
      "LandContour      1422 non-null object\n",
      "LotConfig        1422 non-null object\n",
      "LandSlope        1422 non-null object\n",
      "Neighborhood     1422 non-null object\n",
      "Condition1       1422 non-null object\n",
      "Condition2       1422 non-null object\n",
      "BldgType         1422 non-null object\n",
      "HouseStyle       1422 non-null object\n",
      "OverallQual      1422 non-null int64\n",
      "OverallCond      1422 non-null int64\n",
      "YearBuilt        1422 non-null int64\n",
      "YearRemodAdd     1422 non-null int64\n",
      "RoofStyle        1422 non-null object\n",
      "RoofMatl         1422 non-null object\n",
      "Exterior1st      1422 non-null object\n",
      "Exterior2nd      1422 non-null object\n",
      "MasVnrType       1422 non-null object\n",
      "MasVnrArea       1422 non-null float64\n",
      "ExterQual        1422 non-null object\n",
      "ExterCond        1422 non-null object\n",
      "Foundation       1422 non-null object\n",
      "BsmtQual         1422 non-null object\n",
      "BsmtCond         1422 non-null object\n",
      "BsmtExposure     1422 non-null object\n",
      "BsmtFinType1     1422 non-null object\n",
      "BsmtFinSF1       1422 non-null int64\n",
      "BsmtFinType2     1422 non-null object\n",
      "BsmtFinSF2       1422 non-null int64\n",
      "BsmtUnfSF        1422 non-null int64\n",
      "TotalBsmtSF      1422 non-null int64\n",
      "Heating          1422 non-null object\n",
      "HeatingQC        1422 non-null object\n",
      "CentralAir       1422 non-null object\n",
      "Electrical       1422 non-null object\n",
      "1stFlrSF         1422 non-null int64\n",
      "2ndFlrSF         1422 non-null int64\n",
      "LowQualFinSF     1422 non-null int64\n",
      "GrLivArea        1422 non-null int64\n",
      "BsmtFullBath     1422 non-null int64\n",
      "BsmtHalfBath     1422 non-null int64\n",
      "FullBath         1422 non-null int64\n",
      "HalfBath         1422 non-null int64\n",
      "BedroomAbvGr     1422 non-null int64\n",
      "KitchenAbvGr     1422 non-null int64\n",
      "KitchenQual      1422 non-null object\n",
      "TotRmsAbvGrd     1422 non-null int64\n",
      "Functional       1422 non-null object\n",
      "Fireplaces       1422 non-null int64\n",
      "FireplaceQu      1422 non-null object\n",
      "GarageType       1422 non-null object\n",
      "GarageYrBlt      1422 non-null float64\n",
      "GarageFinish     1422 non-null object\n",
      "GarageCars       1422 non-null int64\n",
      "GarageArea       1422 non-null int64\n",
      "GarageQual       1422 non-null object\n",
      "GarageCond       1422 non-null object\n",
      "PavedDrive       1422 non-null object\n",
      "WoodDeckSF       1422 non-null int64\n",
      "OpenPorchSF      1422 non-null int64\n",
      "EnclosedPorch    1422 non-null int64\n",
      "3SsnPorch        1422 non-null int64\n",
      "ScreenPorch      1422 non-null int64\n",
      "PoolArea         1422 non-null int64\n",
      "PoolQC           1422 non-null object\n",
      "Fence            1422 non-null object\n",
      "MiscFeature      1422 non-null object\n",
      "MiscVal          1422 non-null int64\n",
      "MoSold           1422 non-null int64\n",
      "YrSold           1422 non-null int64\n",
      "SaleType         1422 non-null object\n",
      "SaleCondition    1422 non-null object\n",
      "SalePrice        1422 non-null int64\n",
      "dtypes: float64(3), int64(34), object(42)\n",
      "memory usage: 888.8+ KB\n"
     ]
    }
   ],
   "source": [
    "num_attributes = housing_processed.select_dtypes(exclude='object')\n",
    "\n",
    "high_quant = housing_processed.quantile(.999)\n",
    "\n",
    "for i in num_attributes.columns:\n",
    "    housing_processed = housing_processed.drop(housing_processed[i][housing_processed[i]>high_quant[i]].index)\n",
    "\n",
    "housing_processed.info()"
   ]
  },
  {
   "cell_type": "markdown",
   "metadata": {},
   "source": [
    "### Deal With Categorical Attributes\n",
    "\n",
    "we can drop GarageArea because it is highly correlated with GarageCars and the reason for preferring GarageCars is because it is more correlated with price than area. "
   ]
  },
  {
   "cell_type": "code",
   "execution_count": 37,
   "metadata": {
    "collapsed": true
   },
   "outputs": [],
   "source": [
    "#### Remove highly correlated features\n",
    "# Remove attributes that were identified for excluding when viewing scatter plots & corr values\n",
    "attributes_drop = ['MiscVal', 'MoSold', 'YrSold', 'BsmtFinSF2','BsmtHalfBath','MSSubClass',\n",
    "                   'GarageArea', 'GarageYrBlt', '3SsnPorch']\n",
    "\n",
    "housing_processed = housing_processed.drop(attributes_drop, axis=1)"
   ]
  },
  {
   "cell_type": "markdown",
   "metadata": {},
   "source": [
    "### Handle Text and Categorical Data\n",
    "Let's convert all the categories from text to numbers.\n",
    "A common approach to deal with textual data is to create one binary attribute for each category of the feature: for example, for type of houses, we would have one attribute equal to 1 when the category is 1Story (and 0 otherwise), another attribute equal to 1 when the category is 2Story (and 0 otherwise), and so on. This is called one-hot encoding, because only one attribute will be equal to 1 (hot), while the others will be 0 (cold). The new attributes are also known as dummy attributes."
   ]
  },
  {
   "cell_type": "code",
   "execution_count": 38,
   "metadata": {},
   "outputs": [
    {
     "data": {
      "text/plain": [
       "<1422x7333 sparse matrix of type '<class 'numpy.float64'>'\n",
       "\twith 99540 stored elements in Compressed Sparse Row format>"
      ]
     },
     "execution_count": 38,
     "metadata": {},
     "output_type": "execute_result"
    }
   ],
   "source": [
    "#### Transforming Cat variables\n",
    "from sklearn.preprocessing import OneHotEncoder\n",
    "cat_encoder = OneHotEncoder()\n",
    "housing_processed_1hot = cat_encoder.fit_transform(housing_processed)\n",
    "housing_processed_1hot"
   ]
  }
 ],
 "metadata": {
  "kernelspec": {
   "display_name": "Python 3",
   "language": "python",
   "name": "python3"
  },
  "language_info": {
   "codemirror_mode": {
    "name": "ipython",
    "version": 3
   },
   "file_extension": ".py",
   "mimetype": "text/x-python",
   "name": "python",
   "nbconvert_exporter": "python",
   "pygments_lexer": "ipython3",
   "version": "3.5.2"
  }
 },
 "nbformat": 4,
 "nbformat_minor": 2
}
