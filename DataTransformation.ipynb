{
 "cells": [
  {
   "cell_type": "markdown",
   "metadata": {},
   "source": [
    "## 3. Transformation Pipelines\n",
    "\n",
    "Let's look at a simple example pipeline to impute and scale numerical attributes."
   ]
  },
  {
   "cell_type": "code",
   "execution_count": 39,
   "metadata": {},
   "outputs": [],
   "source": [
    "# Import modules\n",
    "from sklearn.pipeline import Pipeline\n",
    "from sklearn.preprocessing import StandardScaler\n",
    "from sklearn.compose import ColumnTransformer\n",
    "from sklearn.impute import SimpleImputer\n",
    "\n",
    "# Separate features and target variable\n",
    "housing_X = housing_processed.drop(\"SalePrice\", axis=1)\n",
    "housing_y = housing_processed[\"SalePrice\"].copy()\n",
    "\n",
    "# Get the list of names for numerical and categorical attributes separately\n",
    "num_attributes = housing_X.select_dtypes(exclude='object')\n",
    "cat_attributes = housing_X.select_dtypes(include='object')\n",
    "\n",
    "num_attribs = list(num_attributes)\n",
    "cat_attribs = list(cat_attributes)\n",
    "\n",
    "# Numerical Pipeline to impute any missing values with the median and scale attributes\n",
    "num_pipeline = Pipeline([\n",
    "        ('imputer', SimpleImputer(strategy=\"median\")),\n",
    "        ('std_scaler', StandardScaler()),\n",
    "    ])\n"
   ]
  },
  {
   "cell_type": "markdown",
   "metadata": {},
   "source": [
    "Note that we have separated the SalePrice attribute into a separate variable, because for creating the machine learning model, we need to separate all the features, housing_X, from the target variable, housing_y.\n",
    "\n",
    "It is more convenient and clean to have a single transformer handle all columns, applying the appropriate transformations to each column. Scikit-Learn comes to the rescue again by providing the `ColumnTransformer` for the very purpose. Let’s use it to apply all the transformations to our data and create a complete pipeline."
   ]
  },
  {
   "cell_type": "code",
   "execution_count": 40,
   "metadata": {},
   "outputs": [
    {
     "name": "stdout",
     "output_type": "stream",
     "text": [
      "count      1422.000000\n",
      "mean     178405.042897\n",
      "std       74506.926127\n",
      "min       35311.000000\n",
      "25%      129600.000000\n",
      "50%      161500.000000\n",
      "75%      211750.000000\n",
      "max      611657.000000\n",
      "Name: SalePrice, dtype: float64\n",
      "count    1422.000000\n",
      "mean       12.014792\n",
      "std         0.389594\n",
      "min        10.471950\n",
      "25%        11.772207\n",
      "50%        11.992260\n",
      "75%        12.263160\n",
      "max        13.323927\n",
      "Name: SalePrice, dtype: float64\n"
     ]
    },
    {
     "data": {
      "text/plain": [
       "<1422x281 sparse matrix of type '<class 'numpy.float64'>'\n",
       "\twith 98118 stored elements in Compressed Sparse Row format>"
      ]
     },
     "execution_count": 40,
     "metadata": {},
     "output_type": "execute_result"
    }
   ],
   "source": [
    "full_pipeline = ColumnTransformer([\n",
    "        (\"num\", num_pipeline, num_attribs),\n",
    "        (\"cat\", OneHotEncoder(), cat_attribs),\n",
    "    ])\n",
    "\n",
    "\n",
    "# Description before applying transforms\n",
    "print(housing_y.describe())\n",
    "\n",
    "# Apply log-transform to SalePrice\n",
    "housing_y_prepared  = np.log(housing_y)\n",
    "\n",
    "# Run the transformation pipeline on all the other attributes\n",
    "housing_X_prepared = full_pipeline.fit_transform(housing_X)\n",
    "\n",
    "# Description before applying transforms\n",
    "print(housing_y_prepared.describe())\n",
    "\n",
    "housing_X_prepared"
   ]
  }
 ],
 "metadata": {
  "kernelspec": {
   "display_name": "Python 3",
   "language": "python",
   "name": "python3"
  },
  "language_info": {
   "codemirror_mode": {
    "name": "ipython",
    "version": 3
   },
   "file_extension": ".py",
   "mimetype": "text/x-python",
   "name": "python",
   "nbconvert_exporter": "python",
   "pygments_lexer": "ipython3",
   "version": "3.5.2"
  }
 },
 "nbformat": 4,
 "nbformat_minor": 2
}
